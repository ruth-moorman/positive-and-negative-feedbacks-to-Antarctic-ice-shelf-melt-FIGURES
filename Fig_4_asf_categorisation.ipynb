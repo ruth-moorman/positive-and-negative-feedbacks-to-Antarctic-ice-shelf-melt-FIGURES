{
 "cells": [
  {
   "cell_type": "markdown",
   "metadata": {},
   "source": [
    "Script for generating Figure 4:\n",
    "- Fig. 4:(a) Circumpolar classification of cross-slope profiles into Fresh (green), Cool (blue), Warm (red), and Dense (purple) categories described in the main text, indicated with four colorbars corresponding to the \\citet{Thompson2018} characterisation based on observations (`Obs'), and ACCESS-OM2-01 output from the control, MW45, and MW85 simulations. Model output is classified by inspecting transects of potential density and temperature crossing the 1000 m isobath, averaged over the final year of the experimental period. The control pattern does not drift over the 10 year experimental period. 74 transects, taken at intervals of 5$^\\circ$ longitude, are used, with additional transects included along the western edge of the Weddell Sea where the 1000 m isobath bears north. Maps show upper 1000 m depth mean absolute salinity anomalies averaged over the final year of the experiment. Black contours are the 1000 m isobath. (b) Example transects from the control simulation illustrating the four shelf break regimes used in (a) are shown. Transect locations are indicated in (a) by corresponding colored bars."
   ]
  },
  {
   "cell_type": "markdown",
   "metadata": {},
   "source": [
    "categorisation is based on a large quantity of cross isobath transects which are archived. \n",
    "This is just the figure creation, not the analysis itself."
   ]
  },
  {
   "cell_type": "code",
   "execution_count": 1,
   "metadata": {},
   "outputs": [
    {
     "data": {
      "text/html": [
       "<table style=\"border: 2px solid white;\">\n",
       "<tr>\n",
       "<td style=\"vertical-align: top; border: 0px solid white\">\n",
       "<h3 style=\"text-align: left;\">Client</h3>\n",
       "<ul style=\"text-align: left; list-style: none; margin: 0; padding: 0;\">\n",
       "  <li><b>Scheduler: </b>tcp://localhost:8786</li>\n",
       "  <li><b>Dashboard: </b><a href='http://localhost:8787/status' target='_blank'>http://localhost:8787/status</a>\n",
       "</ul>\n",
       "</td>\n",
       "<td style=\"vertical-align: top; border: 0px solid white\">\n",
       "<h3 style=\"text-align: left;\">Cluster</h3>\n",
       "<ul style=\"text-align: left; list-style:none; margin: 0; padding: 0;\">\n",
       "  <li><b>Workers: </b>6</li>\n",
       "  <li><b>Cores: </b>6</li>\n",
       "  <li><b>Memory: </b>18.00 GB</li>\n",
       "</ul>\n",
       "</td>\n",
       "</tr>\n",
       "</table>"
      ],
      "text/plain": [
       "<Client: 'tcp://10.0.64.23:8786' processes=6 threads=6, memory=18.00 GB>"
      ]
     },
     "execution_count": 1,
     "metadata": {},
     "output_type": "execute_result"
    }
   ],
   "source": [
    "import warnings\n",
    "warnings.filterwarnings('ignore')\n",
    "import matplotlib.pyplot as plt\n",
    "import xarray as xr\n",
    "import numpy as np\n",
    "import cartopy.crs as ccrs\n",
    "import cartopy.feature as cfeature\n",
    "import matplotlib.colors as col\n",
    "import matplotlib.path as mpath\n",
    "### establish link to python functions\n",
    "import sys\n",
    "sys.path.append('/home/156/rm2389/Honours_Thesis/python_functions/')\n",
    "### import required python functions\n",
    "from masking import shelf_mask_isobath\n",
    "from spatial_averaging import month_weights\n",
    "import cosima_cookbook as cc\n",
    "from gsw import SA_from_SP, p_from_z, CT_from_pt, beta, sigma1\n",
    "from matplotlib import gridspec\n",
    "from mpl_toolkits.axes_grid1.axes_divider import make_axes_locatable\n",
    "from mpl_toolkits.axes_grid1.colorbar import colorbar\n",
    "from matplotlib import rc, rcParams\n",
    "rcParams['text.latex.preamble']=[r\"\\usepackage{amsmath}\"]\n",
    "rc('text', usetex=True)\n",
    "rc('xtick', labelsize=35) \n",
    "rc('ytick', labelsize=35) \n",
    "rc('axes', labelsize=35) \n",
    "from dask.distributed import Client\n",
    "client = Client('tcp://localhost:8786')\n",
    "import cmocean.cm as cmo\n",
    "import logging\n",
    "logger = logging.getLogger()\n",
    "logger.setLevel(logging.CRITICAL)\n",
    "client"
   ]
  },
  {
   "cell_type": "code",
   "execution_count": 2,
   "metadata": {},
   "outputs": [],
   "source": [
    "db = '/g/data/v45/rm2389/databases/freshwater_experiments.db' # database path\n",
    "session = cc.database.create_session(db)"
   ]
  },
  {
   "cell_type": "code",
   "execution_count": 3,
   "metadata": {},
   "outputs": [],
   "source": [
    "control='01deg_jra55v13_ryf8485_spinup6'\n",
    "rcp45='01deg_jra55v13_ryf8485_freshRCP45'\n",
    "rcp85='01deg_jra55v13_ryf8485_freshRCP85'"
   ]
  },
  {
   "cell_type": "code",
   "execution_count": 4,
   "metadata": {},
   "outputs": [],
   "source": [
    "## data required for lat/lon mapping and bathymetry contours\n",
    "ht = cc.querying.getvar(control,'ht',session, n=1) \n",
    "ht = ht.sel(yt_ocean = slice(-90,-55))\n",
    "land_mask = np.squeeze(ht.values)\n",
    "land_mask = land_mask * 0\n",
    "land_mask[np.isnan(land_mask)] = 1\n",
    "yt_ocean =ht.yt_ocean.values\n",
    "xt_ocean =ht.xt_ocean.values\n",
    "ht_shelf , shelf_mask = shelf_mask_isobath(ht)"
   ]
  },
  {
   "cell_type": "markdown",
   "metadata": {},
   "source": [
    "Plot ASF categorisation in strips to be positioned above salinity map."
   ]
  },
  {
   "cell_type": "code",
   "execution_count": 30,
   "metadata": {},
   "outputs": [],
   "source": [
    "def ASC_strips(ax1, ax2, ax3, ax4):\n",
    "    \n",
    "    ## strip dimensions are determined by eye based off transects of annual average temperature at \n",
    "    ## the regions indicated by the bars in the map.\n",
    "    \n",
    "    plt.setp(ax1.get_xticklabels(), visible=False)\n",
    "    plt.setp(ax1.get_yticklabels(), visible=False)\n",
    "    plt.setp(ax2.get_xticklabels(), visible=False)\n",
    "    plt.setp(ax2.get_yticklabels(), visible=False)\n",
    "    plt.setp(ax3.get_xticklabels(), visible=False)\n",
    "    plt.setp(ax3.get_yticklabels(), visible=False)\n",
    "    plt.setp(ax4.get_xticklabels(), visible=False)\n",
    "    plt.setp(ax4.get_yticklabels(), visible=False)\n",
    "    plt.subplots_adjust(hspace=.1)\n",
    "\n",
    "    ## THOMPSON et al 2018 COMPARISON (estimated from Figure 4)\n",
    "    ## D regions\n",
    "    ax1.fill_between([-29,-54],[0,0],[1,1], color = 'blueviolet')\n",
    "    ax1.fill_between([-178,-228],[0,0],[1,1], color = 'blueviolet')\n",
    "    ax1.fill_between([70,45],[0,0],[1,1], color = 'blueviolet')\n",
    "    ## F regions\n",
    "    ax1.fill_between([-54,-56],[0,0],[1,1], color = 'lightgreen')\n",
    "    ax1.fill_between([-120,-178],[0,0],[1,1], color = 'lightgreen')\n",
    "    ax1.fill_between([-228,-247],[0,0],[1,1], color = 'lightgreen')\n",
    "    ax1.fill_between([-280,-258],[0,0],[1,1], color = 'lightgreen')\n",
    "    ax1.fill_between([70,80],[0,0],[1,1], color = 'lightgreen')\n",
    "    ax1.fill_between([-29,45],[0,0],[1,1], color = 'lightgreen')\n",
    "    ## W regions\n",
    "    ax1.fill_between([-120,-56],[0,0],[1,1], color = 'tomato')\n",
    "    ax1.fill_between([-247,-258],[0,0],[1,1], color = 'tomato')\n",
    "    ax1.axis('off')\n",
    "    ax1.text(81,0.65, 'Obs', fontsize = 40)\n",
    "\n",
    "    \n",
    "    ## CONTROL PERIOD\n",
    "    ax2.fill_between([52.5,80],[0,0],[1,1], color = 'blueviolet')\n",
    "    ax2.fill_between([-32.5,52.5],[0,0],[1,1], color = 'lightgreen')\n",
    "    ax2.fill_between([-62.5,-32.5],[0,0],[1,1], color = 'blueviolet')\n",
    "    ax2.fill_between([-157.5,-62.5],[0,0],[1,1], color = 'tomato')\n",
    "    ax2.fill_between([-177.5,-157.5],[0,0],[1,1], color = 'c')\n",
    "    ax2.fill_between([-242.5,-177.5],[0,0],[1,1], color = 'blueviolet')\n",
    "    ax2.fill_between([-277.5,-242.5],[0,0],[1,1], color = 'lightgreen')\n",
    "    ax2.fill_between([-280,-277.5],[0,0],[1,1], color = 'blueviolet')\n",
    "    ax2.axis('off')\n",
    "    ax2.text(81,0.3, 'Control', fontsize = 40)\n",
    "    \n",
    "    ## RCP 4.5 YEAR 10\n",
    "    ax3.fill_between([52.5,80],[0,0],[1,1], color = 'blueviolet')\n",
    "    ax3.fill_between([-32.5,52.5],[0,0],[1,1], color = 'lightgreen')\n",
    "    ax3.fill_between([-57.5,-32.5],[0,0],[1,1], color = 'blueviolet')\n",
    "    ax3.fill_between([-67.5,-57.5],[0,0],[1,1], color = 'c')\n",
    "    ax3.fill_between([-172.5,-67.5],[0,0],[1,1], color = 'tomato')\n",
    "    ax3.fill_between([-187.5,-172.5],[0,0],[1,1], color = 'c')\n",
    "    ax3.fill_between([-280,-187.5],[0,0],[1,1], color = 'lightgreen')\n",
    "    ax3.axis('off')\n",
    "    ax3.text(81,0.3, 'MW45', fontsize = 40)\n",
    "\n",
    "    ## RCP8.5 YEAR 10 \n",
    "    ax4.fill_between([-72.5, 80],[0,0],[1,1], color = 'lightgreen')\n",
    "    ax4.fill_between([-142.5,-72.5],[0,0],[1,1], color = 'tomato')\n",
    "    ax4.fill_between([-157.5,-142.5],[0,0],[1,1], color = 'lightgreen')\n",
    "    ax4.fill_between([-172.5,-157.5],[0,0],[1,1], color = 'tomato')\n",
    "    ax4.fill_between([-187.5,-172.5],[0,0],[1,1], color = 'c')\n",
    "    ax4.fill_between([-280,-187.5],[0,0],[1,1], color = 'lightgreen')\n",
    "    ax4.axis('off')\n",
    "    ax4.axis('off')\n",
    "    ax4.text(81,0.3, 'MW85', fontsize = 40)"
   ]
  },
  {
   "cell_type": "markdown",
   "metadata": {},
   "source": [
    "Example transects"
   ]
  },
  {
   "cell_type": "code",
   "execution_count": 6,
   "metadata": {},
   "outputs": [],
   "source": [
    "def warm_example(ax):\n",
    "    ## example of transect I identify as \"warm\"\n",
    "    filename = '/g/data/v45/rm2389/ASC_Transects/control/start_temp_transect_32.nc'\n",
    "    temp_transect = xr.open_dataset(filename)\n",
    "    temp_transect = temp_transect.pot_temp_transect\n",
    "    norm1 = col.Normalize(vmin=-2.8,vmax=2.8)  \n",
    "    plot =ax.pcolormesh(temp_transect.yt_ocean,temp_transect.st_ocean,temp_transect.values,cmap='RdBu_r',norm=norm1)\n",
    "    levels = np.array([32.0, 32.2,32.4,32.42,32.44,32.46, 32.48,32.50])\n",
    "    filename = '/g/data/v45/rm2389/ASC_Transects/control/start_sigma1_transect_32.nc'\n",
    "    pot_rho_transect = xr.open_dataset(filename)\n",
    "    pot_rho_transect = pot_rho_transect.pot_rho_1_transect\n",
    "    ax.contour(pot_rho_transect.yt_ocean, pot_rho_transect.st_ocean, pot_rho_transect.values, levels=levels, colors = 'k', linewidths=1, alpha = 0.3)\n",
    "    contours = ax.contour(pot_rho_transect.yt_ocean, pot_rho_transect.st_ocean, pot_rho_transect.values, levels=levels, colors = 'k', linewidths=1)\n",
    "    ax.clabel(contours, inline = 1, fmt='%3.2f',fontsize = 22,manual = ((-73.6,50),(-72.5,100),(-72.5,300),(-72.5,400), (-72.5,500), (-72.5,700), (-72.5,800), (-72.5,1100)))\n",
    "    plt.setp(ax.get_yticklabels(), visible=False)\n",
    "    ax.set_xlabel('Latitude', fontsize = 35)\n",
    "    ax.set_ylim(1500,0)\n",
    "    return plot"
   ]
  },
  {
   "cell_type": "code",
   "execution_count": 25,
   "metadata": {},
   "outputs": [],
   "source": [
    "def fresh_example(ax):\n",
    "    ## example of transect I identify as \"fresh\"\n",
    "    filename = '/g/data/v45/rm2389/ASC_Transects/control/start_temp_transect_58.nc'\n",
    "    temp_transect = xr.open_dataset(filename)\n",
    "    temp_transect = temp_transect.pot_temp_transect\n",
    "    norm1 = col.Normalize(vmin=-2.8,vmax=2.8)  \n",
    "    plot =ax.pcolormesh(temp_transect.yt_ocean,temp_transect.st_ocean,temp_transect.values,cmap='RdBu_r',norm=norm1)\n",
    "    levels = np.array([32.4,32.45, 32.50, 32.52, 32.54,32.56])\n",
    "    filename = '/g/data/v45/rm2389/ASC_Transects/control/start_sigma1_transect_58.nc'\n",
    "    pot_rho_transect = xr.open_dataset(filename)\n",
    "    pot_rho_transect = pot_rho_transect.pot_rho_1_transect\n",
    "    ax.contour(pot_rho_transect.yt_ocean, pot_rho_transect.st_ocean, pot_rho_transect.values, levels=levels, colors = 'k', linewidths=1, alpha =0.3)\n",
    "    contours = ax.contour(pot_rho_transect.yt_ocean, pot_rho_transect.st_ocean, pot_rho_transect.values, levels=levels, colors = 'k', linewidths=1)\n",
    "#     ax.clabel(contours, inline = 1, fmt='%3.2f',fontsize = 22, manual = ((-64.3,50),(-65,200),(-64,300),(-64,500), (-64.5,700), (-64.5,1200)))\n",
    "    ax.set_ylim(1500,0)\n",
    "    ax.set_xlabel('Latitude', fontsize = 35)\n",
    "    ax.set_ylabel('Depth (m)', fontsize = 35)\n",
    "    return plot"
   ]
  },
  {
   "cell_type": "code",
   "execution_count": 24,
   "metadata": {},
   "outputs": [],
   "source": [
    "def cool_example(ax):\n",
    "    ## example of transect with my (new) categorisation of \"cool\"\n",
    "    filename = '/g/data/v45/rm2389/ASC_Transects/control/start_temp_transect_40.nc'\n",
    "    temp_transect = xr.open_dataset(filename)\n",
    "    temp_transect = temp_transect.pot_temp_transect\n",
    "    norm1 = col.Normalize(vmin=-2.8,vmax=2.8)  \n",
    "    plot =ax.pcolormesh(temp_transect.yt_ocean,temp_transect.st_ocean,temp_transect.values,cmap='RdBu_r',norm=norm1)\n",
    "    levels = np.array([32.3,32.38,32.42,32.44,32.46, 32.48,32.50])\n",
    "    filename = '/g/data/v45/rm2389/ASC_Transects/control/start_sigma1_transect_40.nc'\n",
    "    pot_rho_transect = xr.open_dataset(filename)\n",
    "    pot_rho_transect = pot_rho_transect.pot_rho_1_transect\n",
    "    ax.contour(pot_rho_transect.yt_ocean, pot_rho_transect.st_ocean, pot_rho_transect.values, levels=levels, colors = 'k', linewidths=1, alpha = 0.3)\n",
    "    contours = ax.contour(pot_rho_transect.yt_ocean, pot_rho_transect.st_ocean, pot_rho_transect.values, levels=levels, colors = 'k', linewidths=1)\n",
    "    ax.clabel(contours, inline = 1, fmt='%3.2f',fontsize = 22, manual = ((-76,100), (-75.5,200), (-75.5,400), (-75.5,500), (-75.5,600), (-75.5,800), (-75.5,1000)))\n",
    "    plt.setp(ax.get_yticklabels(), visible=False)\n",
    "    ax.set_ylim(1500,0)\n",
    "    ax.set_xlabel('Latitude', fontsize = 35)\n",
    "    return plot"
   ]
  },
  {
   "cell_type": "code",
   "execution_count": 9,
   "metadata": {},
   "outputs": [],
   "source": [
    "def dense_example(ax):\n",
    "    filename = '/g/data/v45/rm2389/ASC_Transects/control/start_temp_transect_1.nc'\n",
    "    temp_transect = xr.open_dataset(filename)\n",
    "    temp_transect = temp_transect.pot_temp_transect\n",
    "    norm1 = col.Normalize(vmin=-2.8,vmax=2.8)  \n",
    "    plot =ax.pcolormesh(temp_transect.yt_ocean,temp_transect.st_ocean,temp_transect.values,cmap='RdBu_r',norm=norm1)\n",
    "    levels = np.array([32.4,32.50, 32.52, 32.54, 32.55])\n",
    "    filename = '/g/data/v45/rm2389/ASC_Transects/control/start_sigma1_transect_1.nc'\n",
    "    pot_rho_transect = xr.open_dataset(filename)\n",
    "    pot_rho_transect = pot_rho_transect.pot_rho_1_transect\n",
    "    ax.contour(pot_rho_transect.yt_ocean, pot_rho_transect.st_ocean, pot_rho_transect.values, levels=levels, colors = 'k', linewidths=1, alpha = 0.3)\n",
    "    contours = ax.contour(pot_rho_transect.yt_ocean, pot_rho_transect.st_ocean, pot_rho_transect.values, levels=levels, colors = 'k', linewidths=1)\n",
    "    ax.clabel(contours, inline = 1, fmt='%3.2f',fontsize = 22, manual = ((-66.5,50), (-66.0,100), (-66.5,300), (-66.5,700), (-66.5,1000)))\n",
    "    plt.setp(ax.get_yticklabels(), visible=False)\n",
    "    ax.set_ylim(1500,0)\n",
    "    ax.set_xlabel('Latitude', fontsize = 35)\n",
    "    return plot"
   ]
  },
  {
   "cell_type": "markdown",
   "metadata": {},
   "source": [
    "Now to determine the upper 1000 m depth mean salinity anomaly"
   ]
  },
  {
   "cell_type": "code",
   "execution_count": 10,
   "metadata": {},
   "outputs": [],
   "source": [
    "def depthmean_map(var, dzt, depth1, depth2):\n",
    "    var = var.sel(st_ocean = slice(depth1,depth2))\n",
    "    dzt = dzt.sel(st_ocean = slice(depth1,depth2))\n",
    "    var_scaled = var * dzt;\n",
    "    var_scaled_sum = var_scaled.sum(dim = 'st_ocean');\n",
    "    sum_depth = dzt.sum(dim = 'st_ocean')\n",
    "    var_weighted_mean = var_scaled_sum /sum_depth;\n",
    "    return var_weighted_mean"
   ]
  },
  {
   "cell_type": "code",
   "execution_count": 11,
   "metadata": {},
   "outputs": [],
   "source": [
    "timeslice = slice('1946-06','1947-05')\n",
    "latslice = slice(-90,-59)\n",
    "## final year and far southern"
   ]
  },
  {
   "cell_type": "code",
   "execution_count": 12,
   "metadata": {},
   "outputs": [],
   "source": [
    "absolute_salt_control = xr.open_dataset('/g/data/v45/rm2389/Water_Mass_Tracers/AS_control_1946-06-1947-05.nc', chunks = {'time':1,'st_ocean':7, 'yt_ocean':300, 'xt_ocean':400})\n",
    "absolute_salt_control = absolute_salt_control.salt\n",
    "dzt_control = cc.querying.getvar(control,'dzt', session, n=-68)\n",
    "dzt_control = dzt_control.sel(time = timeslice, yt_ocean = latslice)"
   ]
  },
  {
   "cell_type": "code",
   "execution_count": 13,
   "metadata": {},
   "outputs": [],
   "source": [
    "absolute_salt_control_mean = depthmean_map(absolute_salt_control, dzt_control, 0, 1000)\n",
    "absolute_salt_control_mean = absolute_salt_control_mean.load()"
   ]
  },
  {
   "cell_type": "code",
   "execution_count": 14,
   "metadata": {},
   "outputs": [],
   "source": [
    "absolute_salt_rcp45 = xr.open_dataset('/g/data/v45/rm2389/Water_Mass_Tracers/AS_rcp45_1946-06-1947-05.nc', chunks = {'time':1,'st_ocean':None, 'yt_ocean':300, 'xt_ocean':400})\n",
    "absolute_salt_rcp45 = absolute_salt_rcp45.salt.sel(yt_ocean = latslice)\n",
    "dzt_rcp45 = cc.querying.getvar(rcp45,'dzt', session)\n",
    "dzt_rcp45 = dzt_rcp45.sel(time = timeslice, yt_ocean = latslice).isel(time = slice(0,12))"
   ]
  },
  {
   "cell_type": "code",
   "execution_count": 15,
   "metadata": {},
   "outputs": [],
   "source": [
    "absolute_salt_rcp45_mean = depthmean_map(absolute_salt_rcp45, dzt_rcp45, 0, 1000)\n",
    "absolute_salt_rcp45_mean = absolute_salt_rcp45_mean.load()"
   ]
  },
  {
   "cell_type": "code",
   "execution_count": 16,
   "metadata": {},
   "outputs": [],
   "source": [
    "absolute_salt_rcp85 = xr.open_dataset('/g/data/v45/rm2389/Water_Mass_Tracers/AS_rcp85_1946-06-1947-05.nc', chunks = {'time':1,'st_ocean':None, 'yt_ocean':300, 'xt_ocean':300})\n",
    "absolute_salt_rcp85 = absolute_salt_rcp85.salt\n",
    "absolute_salt_rcp85 = absolute_salt_rcp85.sel(yt_ocean = latslice)\n",
    "dzt_rcp85 = cc.querying.getvar(rcp85,'dzt', session)\n",
    "dzt_rcp85 = dzt_rcp85.sel(time = timeslice, yt_ocean = latslice)"
   ]
  },
  {
   "cell_type": "code",
   "execution_count": 17,
   "metadata": {},
   "outputs": [],
   "source": [
    "absolute_salt_rcp85_mean = depthmean_map(absolute_salt_rcp85, dzt_rcp85, 0, 1000)\n",
    "absolute_salt_rcp85_mean = absolute_salt_rcp85_mean.load()"
   ]
  },
  {
   "cell_type": "code",
   "execution_count": 18,
   "metadata": {},
   "outputs": [],
   "source": [
    "## time mean\n",
    "absolute_salt_control_mean_time = absolute_salt_control_mean.mean(dim = 'time').load()\n",
    "absolute_salt_rcp45_mean_time = absolute_salt_rcp45_mean.mean(dim = 'time').load()\n",
    "absolute_salt_rcp85_mean_time = absolute_salt_rcp85_mean.mean(dim = 'time').load()\n",
    "## anomaly\n",
    "absolute_salt_rcp45_anomaly = absolute_salt_rcp45_mean_time - absolute_salt_control_mean_time\n",
    "absolute_salt_rcp85_anomaly = absolute_salt_rcp85_mean_time - absolute_salt_control_mean_time"
   ]
  },
  {
   "cell_type": "code",
   "execution_count": 19,
   "metadata": {},
   "outputs": [
    {
     "name": "stdout",
     "output_type": "stream",
     "text": [
      "0.21320870594952623\n",
      "-6.005249355242899\n",
      "0.0920447128047428\n",
      "-13.070117303405425\n"
     ]
    }
   ],
   "source": [
    "## check range for plot \n",
    "print(absolute_salt_rcp45_anomaly.max().values)\n",
    "print(absolute_salt_rcp45_anomaly.min().values)\n",
    "print(absolute_salt_rcp85_anomaly.max().values)\n",
    "print(absolute_salt_rcp85_anomaly.min().values)"
   ]
  },
  {
   "cell_type": "code",
   "execution_count": 22,
   "metadata": {},
   "outputs": [],
   "source": [
    "def salinity_maps(ax0, ax1):\n",
    "    transect_lons = [75,75,70,70,65,65,60,60,55,55,51,51,45,45,40,40,35,35,30,30,25,25,15,15,10,10,5,5,-5,-5,-10,-10,-15,-15,-22.5,-22.5,-30,-30,-35,-35,-40,-40,-45,-45,-50,-50,-85,-85,-90,-90,-95,-95,-100,-100,-105,-105,-110,-110,-115,-115,-120,-120,-125,-125,-130,-130,-135,-135,-140,-140,-145,-145,-150,-150,-155,-155,-160,-160,-165,-165, -170,-170,-175,-175,-180,-180,-185,-185,-190,-190,-195,-195,-200,-200,-205,-205,-210,-210,-215,-215,-220,-220,-225,-225,-230,-230,-235,-235,-240,-240,-245,-245,-250,-250,-255,-255,-260,-260,-265,-265,-270,-270,-275,-275,-279.8,-279.8,-54,-48,-58,-52,-58,-52]\n",
    "    transect_lats = [-67.5,-65.5,-67.5,-65.5,-67.5,-65.5,-67.5,-65.5,-66,-64,-66.5,-64.55,-68,-66,-69,-67,-69,-67,-69.5,-67.5,-70.5,-68.5,-70,-68,-70.5,-68.5,-70.5,-68.5,-71,-69,-71.5,-69.5,-72.5,-70.5,-74.5,-72.5,-75,-73,-75,-73,-74.5,-72.5,-73.5,-71.5,-73,-71,-71,-69,-71.5,-69.5,-71.5,-69.5,-71.5,-69.5,-72,-70,-72,-70,-72.5,-70.5,-73,-71,-73,-71,-74,-72,-74.5,-72.5,-75,-73,-75.5,-73.5,-76.5,-74.5,-77,-75,-77,-75,-77,-75,-77,-75,-76,-74,-73.5,-71.5,-73,-71,-71.5,-69.5,-70.5,-68.5,-70,-68,-67.5,-65.5,-66.5,-64.5,-66.5,-64.5,-66.5,-64.5,-65.5,-63.5,-65.5,-63.5,-66,-64,-66,-64,-66,-64,-66,-64,-65.5,-63.5,-64.8,-62.8,-65.5,-63.5,-66.5,-64.5,-66.5,-64.5,-66.5,-64.5,-63.5,-63.5,-67,-67,-70,-70]\n",
    "\n",
    "    norm1 = col.Normalize(vmin=-1.2,vmax=1.2) \n",
    "    salt = ax0.pcolormesh(absolute_salt_rcp45_anomaly.xt_ocean,absolute_salt_rcp45_anomaly.yt_ocean,absolute_salt_rcp45_anomaly.values,cmap='bwr',norm=norm1)\n",
    "    ax0.contour(xt_ocean, yt_ocean,land_mask,[0,1], colors = 'k', linewidth = 1, alpha = 0.6)\n",
    "    ax0.contour(ht_shelf.xt_ocean, ht_shelf.yt_ocean, shelf_mask.values, [0,1], colors = 'k', linewidth = 6)\n",
    "    ax0.set_xlim((-280,80))\n",
    "    ax0.set_ylim((-79,-59))\n",
    "    ax0.set_ylabel('Latitude', fontsize = 45)\n",
    "    plt.setp(ax0.get_xticklabels(), visible=False)\n",
    "    salt = ax1.pcolormesh(absolute_salt_rcp85_anomaly.xt_ocean,absolute_salt_rcp85_anomaly.yt_ocean,absolute_salt_rcp85_anomaly.values,cmap='bwr',norm=norm1)\n",
    "    ax1.contour(xt_ocean, yt_ocean,land_mask,[0,1], colors = 'k', linewidth = 1, alpha = 0.6)\n",
    "    ax1.contour(ht_shelf.xt_ocean, ht_shelf.yt_ocean, shelf_mask.values, [0,1], colors = 'k', linewidth = 6)\n",
    "    ax1.set_xlim((-280,80))\n",
    "    ax1.set_ylim((-79,-59))\n",
    "    ax1.set_ylabel('Latitude', fontsize = 45)\n",
    "    ax1.set_xlabel('Longitude', fontsize = 45)\n",
    "    i=1\n",
    "    ax1.plot(transect_lons[2*i:2*i+2], transect_lats[2*i:2*i+2], color = 'blueviolet', linewidth = 8)\n",
    "    ax0.plot(transect_lons[2*i:2*i+2], transect_lats[2*i:2*i+2], color = 'blueviolet', linewidth = 8)\n",
    "    i=32\n",
    "    ax1.plot(transect_lons[2*i:2*i+2], transect_lats[2*i:2*i+2], color = 'tomato', linewidth = 8)\n",
    "    ax0.plot(transect_lons[2*i:2*i+2], transect_lats[2*i:2*i+2], color = 'tomato', linewidth = 8)\n",
    "    i=40\n",
    "    ax1.plot(transect_lons[2*i:2*i+2], transect_lats[2*i:2*i+2], color = 'c', linewidth = 8)\n",
    "    ax0.plot(transect_lons[2*i:2*i+2], transect_lats[2*i:2*i+2], color = 'c', linewidth = 8)\n",
    "    i=58\n",
    "    ax1.plot(transect_lons[2*i:2*i+2], transect_lats[2*i:2*i+2], color = 'lightgreen', linewidth = 8)\n",
    "    ax0.plot(transect_lons[2*i:2*i+2], transect_lats[2*i:2*i+2], color = 'lightgreen', linewidth = 8)\n",
    "    return salt"
   ]
  },
  {
   "cell_type": "code",
   "execution_count": null,
   "metadata": {},
   "outputs": [],
   "source": [
    "fig=plt.figure(1,(30,36))\n",
    "gs1 = gridspec.GridSpec(6, 1, height_ratios=[1, 1, 1, 1, 10,10]) \n",
    "gs1.update(bottom = 0.42)\n",
    "\n",
    "ax = plt.subplot(gs1[5])\n",
    "ax0 = plt.subplot(gs1[4])\n",
    "ax1 = plt.subplot(gs1[3], sharex = ax0)\n",
    "ax2 = plt.subplot(gs1[2], sharex = ax0)\n",
    "ax3 = plt.subplot(gs1[1], sharex = ax0)\n",
    "ax4 = plt.subplot(gs1[0], sharex = ax0)\n",
    "\n",
    "salt = salinity_maps(ax0, ax)\n",
    "ASC_strips(ax1, ax2, ax3, ax4)\n",
    "\n",
    "gs2 = gridspec.GridSpec(1, 4) \n",
    "gs2.update(top = 0.34, wspace = 0.1)\n",
    "\n",
    "ax6 = plt.subplot(gs2[0])\n",
    "ax7 = plt.subplot(gs2[1])\n",
    "ax8 = plt.subplot(gs2[2])\n",
    "ax9 = plt.subplot(gs2[3])\n",
    "\n",
    "plot = fresh_example(ax6)\n",
    "warm_example(ax7)\n",
    "dense_example(ax8)\n",
    "cool_example(ax9)\n",
    "\n",
    "cax = plt.axes([0.92, 0.13, 0.02, 0.21])\n",
    "cbar=fig.colorbar(plot, cax = cax ,orientation='vertical')\n",
    "cbar.set_label(r'$\\theta$ ($^\\circ$C)', fontsize = 30)\n",
    "\n",
    "cax = plt.axes([0.92, 0.49, 0.02, 0.23])\n",
    "cbar=fig.colorbar(salt, cax = cax ,orientation='vertical', ticks = [-1.5,-1,-0.5,0,0.5, 1, 1.5])\n",
    "cbar.set_label(r'$\\Delta S_{\\text{abs}}$ (g/kg)', fontsize = 45)\n",
    "\n",
    "figurepath = 'Fig4.png'\n",
    "fig.savefig(figurepath, dpi=None, facecolor='w', edgecolor='w',\n",
    "            orientation='portrait', papertype=None, format='png',\n",
    "            transparent=False, bbox_inches='tight', pad_inches=0.1,\n",
    "            frameon=None)\n",
    "plt.show()"
   ]
  },
  {
   "cell_type": "markdown",
   "metadata": {},
   "source": [
    "Then I did some aestheric changes and added colored boxes for the identification of the shelf regimes offline in photoshop."
   ]
  },
  {
   "cell_type": "code",
   "execution_count": null,
   "metadata": {},
   "outputs": [],
   "source": []
  }
 ],
 "metadata": {
  "kernelspec": {
   "display_name": "Python [conda env:analysis3-19.07] *",
   "language": "python",
   "name": "conda-env-analysis3-19.07-py"
  },
  "language_info": {
   "codemirror_mode": {
    "name": "ipython",
    "version": 3
   },
   "file_extension": ".py",
   "mimetype": "text/x-python",
   "name": "python",
   "nbconvert_exporter": "python",
   "pygments_lexer": "ipython3",
   "version": "3.6.7"
  }
 },
 "nbformat": 4,
 "nbformat_minor": 2
}
