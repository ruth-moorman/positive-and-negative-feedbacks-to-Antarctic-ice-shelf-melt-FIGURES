{
 "cells": [
  {
   "cell_type": "markdown",
   "metadata": {},
   "source": [
    "In various figures I display information about the time averaged advective heat transport in and out of regions, as well as the temperature tendency and surface heat fluxes. These are displayed for the entire continental shelf, the Rodd Sea shelf region, and the West Antarctc shelf region. Such computations are outlined in this notebook. In this study we had to approximate suface heat fluxes as the residual of other heat budget terms (a balance we sconfirmed held for a re-run year of the MW45 experiment) due to an erroneous formulation of the net_sfc_heating diagnostic being output from the ACCESS-OM2 suite. This has been corrected for future runs."
   ]
  },
  {
   "cell_type": "code",
   "execution_count": 1,
   "metadata": {},
   "outputs": [
    {
     "data": {
      "text/html": [
       "<table style=\"border: 2px solid white;\">\n",
       "<tr>\n",
       "<td style=\"vertical-align: top; border: 0px solid white\">\n",
       "<h3 style=\"text-align: left;\">Client</h3>\n",
       "<ul style=\"text-align: left; list-style: none; margin: 0; padding: 0;\">\n",
       "  <li><b>Scheduler: </b>tcp://localhost:8786</li>\n",
       "  <li><b>Dashboard: </b><a href='http://localhost:8787/status' target='_blank'>http://localhost:8787/status</a>\n",
       "</ul>\n",
       "</td>\n",
       "<td style=\"vertical-align: top; border: 0px solid white\">\n",
       "<h3 style=\"text-align: left;\">Cluster</h3>\n",
       "<ul style=\"text-align: left; list-style:none; margin: 0; padding: 0;\">\n",
       "  <li><b>Workers: </b>6</li>\n",
       "  <li><b>Cores: </b>6</li>\n",
       "  <li><b>Memory: </b>18.00 GB</li>\n",
       "</ul>\n",
       "</td>\n",
       "</tr>\n",
       "</table>"
      ],
      "text/plain": [
       "<Client: 'tcp://10.0.64.26:8786' processes=6 threads=6, memory=18.00 GB>"
      ]
     },
     "execution_count": 1,
     "metadata": {},
     "output_type": "execute_result"
    }
   ],
   "source": [
    "import warnings\n",
    "warnings.filterwarnings('ignore')\n",
    "import logging\n",
    "logger = logging.getLogger()\n",
    "logger.setLevel(logging.CRITICAL)\n",
    "import xarray as xr\n",
    "import numpy as np\n",
    "### establish link to python functions\n",
    "import sys\n",
    "sys.path.append('/home/156/rm2389/Honours_Thesis/python_functions/')\n",
    "### import required python functions\n",
    "from masking import shelf_mask_isobath, fill_land\n",
    "from spatial_averaging import month_weights\n",
    "import cosima_cookbook as cc\n",
    "from dask.distributed import Client\n",
    "client = Client('tcp://localhost:8786')\n",
    "client"
   ]
  },
  {
   "cell_type": "code",
   "execution_count": 2,
   "metadata": {},
   "outputs": [],
   "source": [
    "db = '/g/data/v45/rm2389/databases/freshwater_experiments.db' # database path\n",
    "session = cc.database.create_session(db)\n",
    "control='01deg_jra55v13_ryf8485_spinup6'\n",
    "rcp45='01deg_jra55v13_ryf8485_freshRCP45'\n",
    "rcp85='01deg_jra55v13_ryf8485_freshRCP85'"
   ]
  },
  {
   "cell_type": "markdown",
   "metadata": {},
   "source": [
    "*Region definitions*\n",
    "\n",
    "Continental shelf: poleward of the 1000 m isobath\n",
    "\n",
    "Ross Sea shelf: continental shelf between -157 and -198 longitude\n",
    "\n",
    "West Antarctic shelf: continental shelf between -63 and -157 longitude\n",
    "\n",
    "*Variables*\n",
    "\n",
    "`temp_xflux_adv`: `cp*rho*dzt*dyt*u*temp`\n",
    "\n",
    "`heat_trans_across_isobath`: computed offline using outputs `temp_xflux_adv`  and `temp_yflux_adv` sorted onto the 1000m isobath as in `computing_cross_1000m_isobath_transports.ipynb` and saved.\n",
    "\n",
    "\n",
    "tenperature snapshots (either from restarts or daily data) are used to approximate the temp tendency over the analysis period.\n",
    "\n",
    "I also computed volume fluxes across boundaries to guide interpretation of 0C referenced heat budgets."
   ]
  },
  {
   "cell_type": "code",
   "execution_count": 3,
   "metadata": {},
   "outputs": [],
   "source": [
    "timeslice = slice('1937-06', '1947-05')\n",
    "latslice = slice(-90,-59)\n",
    "dyt = cc.querying.getvar(control, 'dyt', session, ncfile = 'ocean_grid.nc', n=1)\n",
    "dxt = cc.querying.getvar(control, 'dxt', session, ncfile = 'ocean_grid.nc', n=1)\n",
    "dxu = cc.querying.getvar(control, 'dxu', session, ncfile = 'ocean_grid.nc', n=1)\n",
    "yt_ocean = dyt.yt_ocean\n",
    "xt_ocean = dyt.xt_ocean\n",
    "yu_ocean = dxu.yu_ocean\n",
    "xu_ocean = dxu.xu_ocean"
   ]
  },
  {
   "cell_type": "markdown",
   "metadata": {},
   "source": [
    "### Control"
   ]
  },
  {
   "cell_type": "code",
   "execution_count": 16,
   "metadata": {},
   "outputs": [],
   "source": [
    "## load the isobath transports\n",
    "heat_trans_across_isobath = xr.open_dataset( '/g/data/v45/rm2389/Isobath_Transport/control/heat_budget_monthly_data/heat_trans_across_isobath_1937-06-1947-05.nc')\n",
    "heat_trans_across_isobath = - heat_trans_across_isobath.heat_trans_across_isobath.sel(time = timeslice)\n",
    "\n",
    "## load zonal heat and volume flux for lateral boundaries\n",
    "temp_xflux_adv = cc.querying.getvar(control, 'temp_xflux_adv',session, ncfile = 'ocean.nc', start_time = '1937-01', end_time = '1947-12')\n",
    "xflux_adv = cc.querying.getvar(control, 'tx_trans',session, ncfile = 'ocean.nc', start_time = '1937-01', end_time = '1947-12')\n",
    "\n",
    "## shelf masking function require dimensions of xt/yt so will temporarily replace dimension xu with xt \n",
    "## to mask and then switch back\n",
    "temp_xflux_adv.coords['xu_ocean'] = xt_ocean.values\n",
    "temp_xflux_adv = temp_xflux_adv.rename({'xu_ocean':'xt_ocean'})\n",
    "xflux_adv.coords['xu_ocean'] = xt_ocean.values\n",
    "xflux_adv = xflux_adv.rename({'xu_ocean':'xt_ocean'})\n",
    "\n",
    "## mask for the continental shelf\n",
    "temp_xflux_adv = temp_xflux_adv.sel(time = timeslice)\n",
    "xflux_adv = xflux_adv.sel(time = timeslice)\n",
    "temp_xflux_adv_shelf, shelf_mask = shelf_mask_isobath(temp_xflux_adv)\n",
    "xflux_adv_shelf, shelf_mask = shelf_mask_isobath(xflux_adv)\n",
    "\n",
    "## re-establish correct x dimension for clarity\n",
    "temp_xflux_adv_shelf.coords['xt_ocean'] = xu_ocean.values\n",
    "temp_xflux_adv_shelf = temp_xflux_adv_shelf.rename({'xt_ocean':'xu_ocean'})\n",
    "xflux_adv_shelf.coords['xt_ocean'] = xu_ocean.values\n",
    "xflux_adv_shelf = xflux_adv_shelf.rename({'xt_ocean':'xu_ocean'})"
   ]
  },
  {
   "cell_type": "code",
   "execution_count": 20,
   "metadata": {},
   "outputs": [],
   "source": [
    "## temperature snapshots for calculating the temp  tendency\n",
    "# start\n",
    "snapshot_start ='/g/data3/hh5/tmp/cosima/access-om2-01/01deg_jra55v13_ryf8485_freshRCP45/start_end_snapshots/restart416_pot_temp.nc'\n",
    "temp_start = xr.open_dataset(snapshot_start, chunks = {'st_ocean':5, 'yt_ocean':300, 'xt_ocean':400})\n",
    "temp_start = temp_start.temp\n",
    "temp_start_shelf, shelf_mask = shelf_mask_isobath(temp_start)\n",
    "# end\n",
    "temp_daily = cc.querying.getvar(control, 'temp', session, ncfile='rregionsouthern_ocean_daily_temp.nc')\n",
    "temp_daily = temp_daily.isel(yt_ocean_sub01 = slice(10,None)) ## get rid of 0s\n",
    "temp_daily = temp_daily.rename({'yt_ocean_sub01':'yt_ocean', 'xt_ocean_sub01':'xt_ocean'})\n",
    "temp_daily_end = temp_daily.sel(time = '1947-05-31', method = 'nearest') - 273.15\n",
    "temp_daily_end_shelf, shelf_mask = shelf_mask_isobath(temp_daily_end)\n",
    "temp_daily_end_shelf = temp_daily_end_shelf.squeeze(dim = 'time')\n",
    "## volume\n",
    "dzt = cc.querying.getvar(control,'dzt',session,ncfile= 'ocean.nc')\n",
    "dzt_end = dzt.sel(time = slice('1947-05','1947-06')).mean(dim = 'time')\n",
    "dzt_start = dzt.sel(time = slice('1937-05','1937-06')).mean(dim = 'time')\n",
    "volume_start =  dzt_start * dyt * dxt\n",
    "volume_end =  dzt_end * dyt * dxt\n",
    "volume_start_shelf, shelf_mask = shelf_mask_isobath(volume_start)\n",
    "volume_end_shelf, shelf_mask = shelf_mask_isobath(volume_end)"
   ]
  },
  {
   "cell_type": "code",
   "execution_count": 19,
   "metadata": {},
   "outputs": [],
   "source": [
    "time = temp_xflux_adv_shelf.time\n",
    "heat_trans_across_isobath.coords['time'] = time\n",
    "weights = xr.DataArray(month_weights(6,5,10), coords = [time], dims = 'time')\n",
    "weights = weights.chunk({'time':1})"
   ]
  },
  {
   "cell_type": "code",
   "execution_count": 23,
   "metadata": {},
   "outputs": [
    {
     "name": "stdout",
     "output_type": "stream",
     "text": [
      "Full shelf stats (control)\n",
      "Heat flux across the isobath: 42.24 TW\n",
      "Change in heat content: 0.17 TW\n",
      "Surf (change in heat minus sum of adv): -42.07\n"
     ]
    }
   ],
   "source": [
    "########################\n",
    "#######FULL SHELF#######\n",
    "########################\n",
    "# advective heat transport across isobath (no need for volume on this one)\n",
    "isobath_heat_flux_summed = heat_trans_across_isobath.sum(dim = 'st_ocean').sum(dim = 'isobath_index')\n",
    "isobath_heat_flux_mean = (isobath_heat_flux_summed * weights).mean(dim = 'time').values * 1e-12\n",
    "# temperature tendency\n",
    "# start\n",
    "volume_start_shelf_sum = volume_start_shelf.sum(dim = 'st_ocean').sum(dim = 'xt_ocean').sum(dim = 'yt_ocean').values\n",
    "temp_vol_start_shelf = (temp_start_shelf * volume_start_shelf).sum(dim = 'st_ocean').sum(dim = 'xt_ocean').sum(dim = 'yt_ocean').values\n",
    "vol_ave_temp_start = temp_vol_start_shelf/volume_start_shelf_sum\n",
    "heat_start_shelf = temp_vol_start_shelf * 3992.10322329649 * 1035 \n",
    "# end\n",
    "volume_end_shelf_sum = volume_end_shelf.sum(dim = 'st_ocean').sum(dim = 'xt_ocean').sum(dim = 'yt_ocean').values\n",
    "temp_vol_end_shelf = (temp_daily_end_shelf * volume_end_shelf).sum(dim = 'st_ocean').sum(dim = 'xt_ocean').sum(dim = 'yt_ocean').values\n",
    "vol_ave_temp_end = temp_vol_end_shelf/volume_end_shelf_sum\n",
    "heat_end_shelf = temp_vol_end_shelf * 3992.10322329649 * 1035 \n",
    "seconds = 60 * 60 * 24 * 365 * 10 # seconds in 10 year\n",
    "heat_content_change = (heat_end_shelf - heat_start_shelf)/seconds * 1e-12\n",
    "\n",
    "print('Full shelf stats (control)')\n",
    "print('Heat flux across the isobath: %3.2f TW'%isobath_heat_flux_mean)\n",
    "print('Change in heat content: %3.2f TW'%heat_content_change)\n",
    "print('Surf (change in heat minus sum of adv): %3.2f'%(heat_content_change-isobath_heat_flux_mean))\n"
   ]
  },
  {
   "cell_type": "code",
   "execution_count": 54,
   "metadata": {},
   "outputs": [],
   "source": [
    "## alter cause we have snapshots for the end of the perturbed runs\n",
    "def compute_region_heat_budget(lon_west, lon_east, isobath_start, isobath_end, name, run):\n",
    "    # advective fluxes\n",
    "    western_heat_flux = temp_xflux_adv_shelf.sel(xu_ocean = lon_west, method = 'nearest')\n",
    "    eastern_heat_flux = -temp_xflux_adv_shelf.sel(xu_ocean = lon_east, method = 'nearest')\n",
    "    western_flux = xflux_adv_shelf.sel(xu_ocean = lon_west, method = 'nearest')\n",
    "    eastern_flux = -xflux_adv_shelf.sel(xu_ocean = lon_east, method = 'nearest')\n",
    "    isobath_heat_flux = heat_trans_across_isobath.sel(isobath_index = slice(isobath_start, isobath_end))\n",
    "    western_heat_flux_summed = western_heat_flux.sum(dim = 'st_ocean').sum(dim = 'yt_ocean')\n",
    "    eastern_heat_flux_summed = eastern_heat_flux.sum(dim = 'st_ocean').sum(dim = 'yt_ocean')\n",
    "    western_flux_summed = western_flux.sum(dim = 'st_ocean').sum(dim = 'yt_ocean')\n",
    "    eastern_flux_summed = eastern_flux.sum(dim = 'st_ocean').sum(dim = 'yt_ocean')\n",
    "    isobath_heat_flux_summed = isobath_heat_flux.sum(dim = 'st_ocean').sum(dim = 'isobath_index')\n",
    "    western_heat_flux_mean = (western_heat_flux_summed * weights).mean(dim = 'time').values * 1e-12\n",
    "    eastern_heat_flux_mean = (eastern_heat_flux_summed * weights).mean(dim = 'time').values * 1e-12\n",
    "    isobath_heat_flux_mean = (isobath_heat_flux_summed * weights).mean(dim = 'time').values * 1e-12\n",
    "    western_flux_mean = (western_flux_summed * weights).mean(dim = 'time').values * 1/1035 * 1e-6\n",
    "    eastern_flux_mean = (eastern_flux_summed * weights).mean(dim = 'time').values * 1/1035 * 1e-6\n",
    "    # temp tendency\n",
    "    #start\n",
    "    region_temp_start = temp_start_shelf.sel(xt_ocean = slice(lon_west,lon_east))\n",
    "    region_vol_start = volume_start_shelf.sel(xt_ocean = slice(lon_west,lon_east))\n",
    "    region_vol_sum_start = region_vol_start.sum(dim = 'st_ocean').sum(dim = 'xt_ocean').sum(dim = 'yt_ocean').values\n",
    "    temp_vol_start = (region_temp_start* region_vol_start).sum(dim = 'st_ocean').sum(dim = 'xt_ocean').sum(dim = 'yt_ocean').values\n",
    "    vol_ave_temp_start = temp_vol_start/region_vol_sum_start\n",
    "    heat_start = temp_vol_start * 3992.10322329649 * 1035 \n",
    "    # end\n",
    "    if run == 'control':\n",
    "        region_temp_end = temp_daily_end_shelf.sel(xt_ocean = slice(lon_west,lon_east))\n",
    "    else:\n",
    "        region_temp_end = temp_end_shelf.sel(xt_ocean = slice(lon_west,lon_east))\n",
    "\n",
    "    region_vol_end = volume_end_shelf.sel(xt_ocean = slice(lon_west,lon_east))\n",
    "    region_vol_sum_end = region_vol_end.sum(dim = 'st_ocean').sum(dim = 'xt_ocean').sum(dim = 'yt_ocean').values\n",
    "    temp_vol_end = (region_temp_end* region_vol_end).sum(dim = 'st_ocean').sum(dim = 'xt_ocean').sum(dim = 'yt_ocean').values\n",
    "    vol_ave_temp_end = temp_vol_end/region_vol_sum_end\n",
    "    heat_end = temp_vol_end * 3992.10322329649 * 1035 \n",
    "    seconds = 60 * 60 * 24 * 365 * 10 \n",
    "    heat_content_change = (heat_end - heat_start)/seconds * 1e-12\n",
    "    print(name+' shelf ('+run+')')\n",
    "    print('Heat flux across the isobath: %2.1f TW'%isobath_heat_flux_mean)\n",
    "    print('Heat flux across the western boundary: %2.1f TW'%western_heat_flux_mean)\n",
    "    print('Heat flux across the eastern boundary: %2.1f TW'%eastern_heat_flux_mean)\n",
    "    print('Change in heat content: %2.1f TW'%heat_content_change)\n",
    "    print('Surf (change in heat minus sum of adv): %2.1f'%(heat_content_change-(isobath_heat_flux_mean+western_heat_flux_mean+eastern_heat_flux_mean)))\n",
    "    print('Volume flux across the west boundary: %2.1f Sv'%western_flux_mean)\n",
    "    print('Volume flux across the east boundary: %2.1f Sv'%eastern_flux_mean)"
   ]
  },
  {
   "cell_type": "code",
   "execution_count": 37,
   "metadata": {},
   "outputs": [
    {
     "name": "stdout",
     "output_type": "stream",
     "text": [
      "Ross shelf (control)\n",
      "Heat flux across the isobath: 11.9 TW\n",
      "Heat flux across the western boundary: 3.0 TW\n",
      "Heat flux across the eastern boundary: -3.6 TW\n",
      "Change in heat content: -0.0 TW\n",
      "Surf (change in heat minus sum of adv): -11.4\n",
      "Volume flux across the west boundary: -0.6 Sv\n",
      "Volume flux across the east boundary: 0.6 Sv\n"
     ]
    }
   ],
   "source": [
    "########################\n",
    "#######ROSS SHELF#######\n",
    "########################\n",
    "lon_west = -198\n",
    "lon_east = -157\n",
    "isobath_start = 1307\n",
    "isobath_end = 2055\n",
    "compute_region_heat_budget(lon_west, lon_east, isobath_start, isobath_end, 'Ross', 'control')"
   ]
  },
  {
   "cell_type": "code",
   "execution_count": 38,
   "metadata": {},
   "outputs": [
    {
     "name": "stdout",
     "output_type": "stream",
     "text": [
      "West Antarctic shelf (control)\n",
      "Heat flux across the isobath: 5.8 TW\n",
      "Heat flux across the western boundary: 3.6 TW\n",
      "Heat flux across the eastern boundary: -0.4 TW\n",
      "Change in heat content: 0.2 TW\n",
      "Surf (change in heat minus sum of adv): -8.8\n",
      "Volume flux across the west boundary: -0.6 Sv\n",
      "Volume flux across the east boundary: -0.0 Sv\n"
     ]
    }
   ],
   "source": [
    "##################################\n",
    "#######WEST ANTARCTIC SHELF#######\n",
    "##################################\n",
    "lon_west = -157\n",
    "lon_east = -63\n",
    "isobath_start = 2056\n",
    "isobath_end = 3373\n",
    "compute_region_heat_budget(lon_west, lon_east, isobath_start, isobath_end, 'West Antarctic', 'control')"
   ]
  },
  {
   "cell_type": "markdown",
   "metadata": {},
   "source": [
    "### MW45"
   ]
  },
  {
   "cell_type": "code",
   "execution_count": 39,
   "metadata": {},
   "outputs": [],
   "source": [
    "## load the isobath transports\n",
    "heat_trans_across_isobath = xr.open_dataset( '/g/data/v45/rm2389/Isobath_Transport/rcp45/heat_trans_across_isobath_1937-06-1947-05.nc')\n",
    "heat_trans_across_isobath = - heat_trans_across_isobath.heat_trans_across_isobath.sel(time = timeslice)\n",
    "\n",
    "## load zonal heat and volume flux for lateral boundaries\n",
    "temp_xflux_adv = cc.querying.getvar(rcp45, 'temp_xflux_adv',session, ncfile = 'ocean.nc', start_time = '1937-01', end_time = '1947-12')\n",
    "xflux_adv = cc.querying.getvar(rcp45, 'tx_trans',session, ncfile = 'ocean.nc', start_time = '1937-01', end_time = '1947-12')\n",
    "\n",
    "## shelf masking function require dimensions of xt/yt so will temporarily replace dimension xu with xt \n",
    "## to mask and then switch back\n",
    "temp_xflux_adv.coords['xu_ocean'] = xt_ocean.values\n",
    "temp_xflux_adv = temp_xflux_adv.rename({'xu_ocean':'xt_ocean'})\n",
    "xflux_adv.coords['xu_ocean'] = xt_ocean.values\n",
    "xflux_adv = xflux_adv.rename({'xu_ocean':'xt_ocean'})\n",
    "\n",
    "## mask for the continental shelf\n",
    "temp_xflux_adv = temp_xflux_adv.sel(time = timeslice)\n",
    "xflux_adv = xflux_adv.sel(time = timeslice)\n",
    "temp_xflux_adv_shelf, shelf_mask = shelf_mask_isobath(temp_xflux_adv)\n",
    "xflux_adv_shelf, shelf_mask = shelf_mask_isobath(xflux_adv)\n",
    "\n",
    "## re-establish correct x dimension for clarity\n",
    "temp_xflux_adv_shelf.coords['xt_ocean'] = xu_ocean.values\n",
    "temp_xflux_adv_shelf = temp_xflux_adv_shelf.rename({'xt_ocean':'xu_ocean'})\n",
    "xflux_adv_shelf.coords['xt_ocean'] = xu_ocean.values\n",
    "xflux_adv_shelf = xflux_adv_shelf.rename({'xt_ocean':'xu_ocean'})"
   ]
  },
  {
   "cell_type": "code",
   "execution_count": 48,
   "metadata": {},
   "outputs": [],
   "source": [
    "temp_xflux_adv_shelf = temp_xflux_adv_shelf.isel(time = slice(0,120))\n",
    "xflux_adv_shelf = xflux_adv_shelf.isel(time = slice(0,120))"
   ]
  },
  {
   "cell_type": "code",
   "execution_count": 42,
   "metadata": {},
   "outputs": [],
   "source": [
    "## temperature snapshots for calculating the temp  tendency\n",
    "snapshot_start = '/g/data3/hh5/tmp/cosima/access-om2-01/01deg_jra55v13_ryf8485_freshRCP45/start_end_snapshots/restart416_pot_temp.nc'\n",
    "snapshot_end = '/g/data3/hh5/tmp/cosima/access-om2-01/01deg_jra55v13_ryf8485_freshRCP45/start_end_snapshots/restart536_pot_temp.nc'\n",
    "temp_start = xr.open_dataset(snapshot_start, chunks = {'st_ocean':5, 'yt_ocean':300, 'xt_ocean':400})\n",
    "temp_end = xr.open_dataset(snapshot_end, chunks = {'st_ocean':5, 'yt_ocean':300, 'xt_ocean':400})\n",
    "temp_start = temp_start.temp\n",
    "temp_end = temp_end.temp\n",
    "temp_start_shelf, shelf_mask = shelf_mask_isobath(temp_start)\n",
    "temp_end_shelf, shelf_mask = shelf_mask_isobath(temp_end)\n",
    "## volume\n",
    "dzt = cc.querying.getvar(control,'dzt',session,ncfile= 'ocean.nc')\n",
    "dzt_end = dzt.sel(time = slice('1947-05','1947-06')).mean(dim = 'time')\n",
    "dzt_start = dzt.sel(time = slice('1937-05','1937-06')).mean(dim = 'time')\n",
    "volume_start =  dzt_start * dyt * dxt\n",
    "volume_end =  dzt_end * dyt * dxt\n",
    "volume_start_shelf, shelf_mask = shelf_mask_isobath(volume_start)\n",
    "volume_end_shelf, shelf_mask = shelf_mask_isobath(volume_end)"
   ]
  },
  {
   "cell_type": "code",
   "execution_count": 49,
   "metadata": {
    "scrolled": true
   },
   "outputs": [],
   "source": [
    "time = temp_xflux_adv_shelf.time\n",
    "heat_trans_across_isobath.coords['time'] = time\n",
    "weights = xr.DataArray(month_weights(6,5,10), coords = [time], dims = 'time')\n",
    "weights = weights.chunk({'time':1})"
   ]
  },
  {
   "cell_type": "code",
   "execution_count": 50,
   "metadata": {},
   "outputs": [
    {
     "name": "stdout",
     "output_type": "stream",
     "text": [
      "Full shelf stats (mw45)\n",
      "Heat flux across the isobath: 30.34 TW\n",
      "Change in heat content: -0.43 TW\n",
      "Surf (change in heat minus sum of adv): -30.77\n"
     ]
    }
   ],
   "source": [
    "########################\n",
    "#######FULL SHELF#######\n",
    "########################\n",
    "# advective heat transport across isobath (no need for volume on this one)\n",
    "isobath_heat_flux_summed = heat_trans_across_isobath.sum(dim = 'st_ocean').sum(dim = 'isobath_index')\n",
    "isobath_heat_flux_mean = (isobath_heat_flux_summed * weights).mean(dim = 'time').values * 1e-12\n",
    "# temperature tendency\n",
    "# start\n",
    "volume_start_shelf_sum = volume_start_shelf.sum(dim = 'st_ocean').sum(dim = 'xt_ocean').sum(dim = 'yt_ocean').values\n",
    "temp_vol_start_shelf = (temp_start_shelf * volume_start_shelf).sum(dim = 'st_ocean').sum(dim = 'xt_ocean').sum(dim = 'yt_ocean').values\n",
    "vol_ave_temp_start = temp_vol_start_shelf/volume_start_shelf_sum\n",
    "heat_start_shelf = temp_vol_start_shelf * 3992.10322329649 * 1035 \n",
    "# end\n",
    "volume_end_shelf_sum = volume_end_shelf.sum(dim = 'st_ocean').sum(dim = 'xt_ocean').sum(dim = 'yt_ocean').values\n",
    "temp_vol_end_shelf = (temp_end_shelf * volume_end_shelf).sum(dim = 'st_ocean').sum(dim = 'xt_ocean').sum(dim = 'yt_ocean').values\n",
    "vol_ave_temp_end = temp_vol_end_shelf/volume_end_shelf_sum\n",
    "heat_end_shelf = temp_vol_end_shelf * 3992.10322329649 * 1035 \n",
    "seconds = 60 * 60 * 24 * 365 * 10 # seconds in 10 year\n",
    "heat_content_change = (heat_end_shelf - heat_start_shelf)/seconds * 1e-12\n",
    "\n",
    "print('Full shelf stats (mw45)')\n",
    "print('Heat flux across the isobath: %3.2f TW'%isobath_heat_flux_mean)\n",
    "print('Change in heat content: %3.2f TW'%heat_content_change)\n",
    "print('Surf (change in heat minus sum of adv): %3.2f'%(heat_content_change-isobath_heat_flux_mean))\n"
   ]
  },
  {
   "cell_type": "markdown",
   "metadata": {},
   "source": [
    "We take these heat fluxes as anomalies from the control:\n",
    "\n",
    "Heat flux across the isobath: -11.9 TW\n",
    "\n",
    "Change in heat content: -0.6 TW\n",
    "\n",
    "Surf (change in heat minus sum of adv): +11.3 TW\n"
   ]
  },
  {
   "cell_type": "code",
   "execution_count": 55,
   "metadata": {},
   "outputs": [
    {
     "name": "stdout",
     "output_type": "stream",
     "text": [
      "Ross shelf (rcp45)\n",
      "Heat flux across the isobath: 4.0 TW\n",
      "Heat flux across the western boundary: 7.2 TW\n",
      "Heat flux across the eastern boundary: -4.9 TW\n",
      "Change in heat content: 0.9 TW\n",
      "Surf (change in heat minus sum of adv): -5.5\n",
      "Volume flux across the west boundary: -1.1 Sv\n",
      "Volume flux across the east boundary: 0.8 Sv\n"
     ]
    }
   ],
   "source": [
    "########################\n",
    "#######ROSS SHELF#######\n",
    "########################\n",
    "lon_west = -198\n",
    "lon_east = -157\n",
    "isobath_start = 1307\n",
    "isobath_end = 2055\n",
    "compute_region_heat_budget(lon_west, lon_east, isobath_start, isobath_end, 'Ross', 'rcp45')"
   ]
  },
  {
   "cell_type": "markdown",
   "metadata": {},
   "source": [
    "well shoot it seems I put some incorrect numbers in the paper, must revise."
   ]
  },
  {
   "cell_type": "code",
   "execution_count": 57,
   "metadata": {},
   "outputs": [
    {
     "name": "stdout",
     "output_type": "stream",
     "text": [
      "West Antarctic shelf (rcp45)\n",
      "Heat flux across the isobath: 6.5 TW\n",
      "Heat flux across the western boundary: 4.9 TW\n",
      "Heat flux across the eastern boundary: -3.2 TW\n",
      "Change in heat content: -0.2 TW\n",
      "Surf (change in heat minus sum of adv): -8.4\n",
      "Volume flux across the west boundary: -0.8 Sv\n",
      "Volume flux across the east boundary: 0.5 Sv\n"
     ]
    }
   ],
   "source": [
    "##################################\n",
    "#######WEST ANTARCTIC SHELF#######\n",
    "##################################\n",
    "lon_west = -157\n",
    "lon_east = -63\n",
    "isobath_start = 2056\n",
    "isobath_end = 3373\n",
    "compute_region_heat_budget(lon_west, lon_east, isobath_start, isobath_end, 'West Antarctic', 'rcp45')"
   ]
  },
  {
   "cell_type": "markdown",
   "metadata": {},
   "source": [
    "### MW85"
   ]
  },
  {
   "cell_type": "code",
   "execution_count": 60,
   "metadata": {},
   "outputs": [],
   "source": [
    "## load the isobath transports\n",
    "heat_trans_across_isobath = xr.open_dataset( '/g/data/v45/rm2389/Isobath_Transport/rcp85/heat_trans_across_isobath_1937-06-1947-05.nc')\n",
    "heat_trans_across_isobath = - heat_trans_across_isobath.heat_trans_across_isobath.sel(time = timeslice)\n",
    "\n",
    "## load zonal heat and volume flux for lateral boundaries\n",
    "temp_xflux_adv = cc.querying.getvar(rcp85, 'temp_xflux_adv',session, ncfile = 'ocean.nc', start_time = '1937-01', end_time = '1947-12')\n",
    "xflux_adv = cc.querying.getvar(rcp85, 'tx_trans',session, ncfile = 'ocean.nc', start_time = '1937-01', end_time = '1947-12')\n",
    "\n",
    "## shelf masking function require dimensions of xt/yt so will temporarily replace dimension xu with xt \n",
    "## to mask and then switch back\n",
    "temp_xflux_adv.coords['xu_ocean'] = xt_ocean.values\n",
    "temp_xflux_adv = temp_xflux_adv.rename({'xu_ocean':'xt_ocean'})\n",
    "xflux_adv.coords['xu_ocean'] = xt_ocean.values\n",
    "xflux_adv = xflux_adv.rename({'xu_ocean':'xt_ocean'})\n",
    "\n",
    "## mask for the continental shelf\n",
    "temp_xflux_adv = temp_xflux_adv.sel(time = timeslice)\n",
    "xflux_adv = xflux_adv.sel(time = timeslice)\n",
    "temp_xflux_adv_shelf, shelf_mask = shelf_mask_isobath(temp_xflux_adv)\n",
    "xflux_adv_shelf, shelf_mask = shelf_mask_isobath(xflux_adv)\n",
    "\n",
    "## re-establish correct x dimension for clarity\n",
    "temp_xflux_adv_shelf.coords['xt_ocean'] = xu_ocean.values\n",
    "temp_xflux_adv_shelf = temp_xflux_adv_shelf.rename({'xt_ocean':'xu_ocean'})\n",
    "xflux_adv_shelf.coords['xt_ocean'] = xu_ocean.values\n",
    "xflux_adv_shelf = xflux_adv_shelf.rename({'xt_ocean':'xu_ocean'})"
   ]
  },
  {
   "cell_type": "code",
   "execution_count": 59,
   "metadata": {},
   "outputs": [],
   "source": [
    "## temperature snapshots for calculating the temp  tendency\n",
    "snapshot_start = '/g/data3/hh5/tmp/cosima/access-om2-01/01deg_jra55v13_ryf8485_freshRCP45/start_end_snapshots/restart416_pot_temp.nc'\n",
    "snapshot_end = '/g/data3/hh5/tmp/cosima/access-om2-01/01deg_jra55v13_ryf8485_freshRCP85/start_end_snapshots/restart536_pot_temp.nc'\n",
    "temp_start = xr.open_dataset(snapshot_start, chunks = {'st_ocean':5, 'yt_ocean':300, 'xt_ocean':400})\n",
    "temp_end = xr.open_dataset(snapshot_end, chunks = {'st_ocean':5, 'yt_ocean':300, 'xt_ocean':400})\n",
    "temp_start = temp_start.temp\n",
    "temp_end = temp_end.temp\n",
    "temp_start_shelf, shelf_mask = shelf_mask_isobath(temp_start)\n",
    "temp_end_shelf, shelf_mask = shelf_mask_isobath(temp_end)\n",
    "## volume\n",
    "dzt = cc.querying.getvar(rcp85,'dzt',session,ncfile= 'ocean.nc')\n",
    "dzt_end = dzt.sel(time = slice('1947-05','1947-06')).mean(dim = 'time')\n",
    "dzt_start = dzt.sel(time = slice('1937-05','1937-06')).mean(dim = 'time')\n",
    "volume_start =  dzt_start * dyt * dxt\n",
    "volume_end =  dzt_end * dyt * dxt\n",
    "volume_start_shelf, shelf_mask = shelf_mask_isobath(volume_start)\n",
    "volume_end_shelf, shelf_mask = shelf_mask_isobath(volume_end)"
   ]
  },
  {
   "cell_type": "code",
   "execution_count": 61,
   "metadata": {},
   "outputs": [],
   "source": [
    "time = temp_xflux_adv_shelf.time\n",
    "heat_trans_across_isobath.coords['time'] = time\n",
    "weights = xr.DataArray(month_weights(6,5,10), coords = [time], dims = 'time')\n",
    "weights = weights.chunk({'time':1})"
   ]
  },
  {
   "cell_type": "code",
   "execution_count": 62,
   "metadata": {},
   "outputs": [
    {
     "name": "stdout",
     "output_type": "stream",
     "text": [
      "Full shelf stats (mw85)\n",
      "Heat flux across the isobath: 22.20 TW\n",
      "Change in heat content: -0.50 TW\n",
      "Surf (change in heat minus sum of adv): -22.70\n"
     ]
    }
   ],
   "source": [
    "########################\n",
    "#######FULL SHELF#######\n",
    "########################\n",
    "# advective heat transport across isobath (no need for volume on this one)\n",
    "isobath_heat_flux_summed = heat_trans_across_isobath.sum(dim = 'st_ocean').sum(dim = 'isobath_index')\n",
    "isobath_heat_flux_mean = (isobath_heat_flux_summed * weights).mean(dim = 'time').values * 1e-12\n",
    "# temperature tendency\n",
    "# start\n",
    "volume_start_shelf_sum = volume_start_shelf.sum(dim = 'st_ocean').sum(dim = 'xt_ocean').sum(dim = 'yt_ocean').values\n",
    "temp_vol_start_shelf = (temp_start_shelf * volume_start_shelf).sum(dim = 'st_ocean').sum(dim = 'xt_ocean').sum(dim = 'yt_ocean').values\n",
    "vol_ave_temp_start = temp_vol_start_shelf/volume_start_shelf_sum\n",
    "heat_start_shelf = temp_vol_start_shelf * 3992.10322329649 * 1035 \n",
    "# end\n",
    "volume_end_shelf_sum = volume_end_shelf.sum(dim = 'st_ocean').sum(dim = 'xt_ocean').sum(dim = 'yt_ocean').values\n",
    "temp_vol_end_shelf = (temp_end_shelf * volume_end_shelf).sum(dim = 'st_ocean').sum(dim = 'xt_ocean').sum(dim = 'yt_ocean').values\n",
    "vol_ave_temp_end = temp_vol_end_shelf/volume_end_shelf_sum\n",
    "heat_end_shelf = temp_vol_end_shelf * 3992.10322329649 * 1035 \n",
    "seconds = 60 * 60 * 24 * 365 * 10 # seconds in 10 year\n",
    "heat_content_change = (heat_end_shelf - heat_start_shelf)/seconds * 1e-12\n",
    "\n",
    "print('Full shelf stats (mw85)')\n",
    "print('Heat flux across the isobath: %3.2f TW'%isobath_heat_flux_mean)\n",
    "print('Change in heat content: %3.2f TW'%heat_content_change)\n",
    "print('Surf (change in heat minus sum of adv): %3.2f'%(heat_content_change-isobath_heat_flux_mean))\n"
   ]
  },
  {
   "cell_type": "markdown",
   "metadata": {},
   "source": [
    "Anomalies for figure:\n",
    "\n",
    "Heat flux across the isobath: -20.1 TW\n",
    "\n",
    "Change in heat content: 0.7 TW\n",
    "\n",
    "Surf (change in heat minus sum of adv): +19.4 TW\n",
    "\n"
   ]
  },
  {
   "cell_type": "code",
   "execution_count": 63,
   "metadata": {},
   "outputs": [
    {
     "name": "stdout",
     "output_type": "stream",
     "text": [
      "Ross shelf (rcp85)\n",
      "Heat flux across the isobath: 1.0 TW\n",
      "Heat flux across the western boundary: 11.2 TW\n",
      "Heat flux across the eastern boundary: -8.1 TW\n",
      "Change in heat content: 1.6 TW\n",
      "Surf (change in heat minus sum of adv): -2.6\n",
      "Volume flux across the west boundary: -1.9 Sv\n",
      "Volume flux across the east boundary: 1.5 Sv\n"
     ]
    }
   ],
   "source": [
    "########################\n",
    "#######ROSS SHELF#######\n",
    "########################\n",
    "lon_west = -198\n",
    "lon_east = -157\n",
    "isobath_start = 1307\n",
    "isobath_end = 2055\n",
    "compute_region_heat_budget(lon_west, lon_east, isobath_start, isobath_end, 'Ross', 'rcp85')"
   ]
  },
  {
   "cell_type": "markdown",
   "metadata": {},
   "source": [
    "Well I need to redo my ross sea analysis and resubmit..."
   ]
  },
  {
   "cell_type": "code",
   "execution_count": 64,
   "metadata": {},
   "outputs": [
    {
     "name": "stdout",
     "output_type": "stream",
     "text": [
      "West Antarctic shelf (rcp85)\n",
      "Heat flux across the isobath: 7.0 TW\n",
      "Heat flux across the western boundary: 8.1 TW\n",
      "Heat flux across the eastern boundary: -8.3 TW\n",
      "Change in heat content: -2.6 TW\n",
      "Surf (change in heat minus sum of adv): -9.5\n",
      "Volume flux across the west boundary: -1.5 Sv\n",
      "Volume flux across the east boundary: 1.5 Sv\n"
     ]
    }
   ],
   "source": [
    "##################################\n",
    "#######WEST ANTARCTIC SHELF#######\n",
    "##################################\n",
    "lon_west = -157\n",
    "lon_east = -63\n",
    "isobath_start = 2056\n",
    "isobath_end = 3373\n",
    "compute_region_heat_budget(lon_west, lon_east, isobath_start, isobath_end, 'West Antarctic', 'rcp85')"
   ]
  }
 ],
 "metadata": {
  "kernelspec": {
   "display_name": "Python [conda env:analysis3-19.07] *",
   "language": "python",
   "name": "conda-env-analysis3-19.07-py"
  },
  "language_info": {
   "codemirror_mode": {
    "name": "ipython",
    "version": 3
   },
   "file_extension": ".py",
   "mimetype": "text/x-python",
   "name": "python",
   "nbconvert_exporter": "python",
   "pygments_lexer": "ipython3",
   "version": "3.6.7"
  }
 },
 "nbformat": 4,
 "nbformat_minor": 2
}
