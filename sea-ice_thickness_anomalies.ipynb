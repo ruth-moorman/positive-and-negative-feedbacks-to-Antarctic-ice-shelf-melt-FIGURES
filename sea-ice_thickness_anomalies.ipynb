{
 "cells": [
  {
   "cell_type": "markdown",
   "metadata": {},
   "source": [
    "Just recomputing these because I want to report percentile changes and can't find the relevant numbers."
   ]
  },
  {
   "cell_type": "code",
   "execution_count": 1,
   "metadata": {},
   "outputs": [
    {
     "data": {
      "text/html": [
       "<table style=\"border: 2px solid white;\">\n",
       "<tr>\n",
       "<td style=\"vertical-align: top; border: 0px solid white\">\n",
       "<h3 style=\"text-align: left;\">Client</h3>\n",
       "<ul style=\"text-align: left; list-style: none; margin: 0; padding: 0;\">\n",
       "  <li><b>Scheduler: </b>tcp://localhost:8786</li>\n",
       "  <li><b>Dashboard: </b><a href='http://localhost:8787/status' target='_blank'>http://localhost:8787/status</a>\n",
       "</ul>\n",
       "</td>\n",
       "<td style=\"vertical-align: top; border: 0px solid white\">\n",
       "<h3 style=\"text-align: left;\">Cluster</h3>\n",
       "<ul style=\"text-align: left; list-style:none; margin: 0; padding: 0;\">\n",
       "  <li><b>Workers: </b>6</li>\n",
       "  <li><b>Cores: </b>6</li>\n",
       "  <li><b>Memory: </b>18.00 GB</li>\n",
       "</ul>\n",
       "</td>\n",
       "</tr>\n",
       "</table>"
      ],
      "text/plain": [
       "<Client: 'tcp://10.0.64.20:8786' processes=6 threads=6, memory=18.00 GB>"
      ]
     },
     "execution_count": 1,
     "metadata": {},
     "output_type": "execute_result"
    }
   ],
   "source": [
    "import xarray as xr\n",
    "import numpy as np\n",
    "import dask.array\n",
    "import cosima_cookbook as cc\n",
    "import warnings\n",
    "warnings.filterwarnings('ignore')\n",
    "import sys\n",
    "sys.path.append('/home/156/rm2389/Honours_Thesis/python_functions/')\n",
    "from spatial_averaging import month_weights\n",
    "import logging\n",
    "logger = logging.getLogger()\n",
    "logger.setLevel(logging.CRITICAL)\n",
    "from dask.distributed import Client\n",
    "client = Client('tcp://localhost:8786')\n",
    "client"
   ]
  },
  {
   "cell_type": "code",
   "execution_count": 2,
   "metadata": {},
   "outputs": [],
   "source": [
    "db = '../../freshwater_experiments.db' # database path\n",
    "session = cc.database.create_session(db)\n",
    "control='01deg_jra55v13_ryf8485_spinup6'\n",
    "rcp45='01deg_jra55v13_ryf8485_freshRCP45'\n",
    "rcp85='01deg_jra55v13_ryf8485_freshRCP85'"
   ]
  },
  {
   "cell_type": "markdown",
   "metadata": {},
   "source": [
    "### Thickness"
   ]
  },
  {
   "cell_type": "code",
   "execution_count": 3,
   "metadata": {},
   "outputs": [],
   "source": [
    "control_ice_thickness = cc.querying.getvar(control, 'hi_m', session)\n",
    "rcp45_ice_thickness = cc.querying.getvar(rcp45, 'hi_m', session)\n",
    "rcp85_ice_thickness = cc.querying.getvar(rcp85, 'hi_m', session)"
   ]
  },
  {
   "cell_type": "code",
   "execution_count": 4,
   "metadata": {},
   "outputs": [],
   "source": [
    "def replace_ice_coords(ice, tgrid): ## note - dont use for arctic cause of tripole inaccuracies\n",
    "    ice.coords['nj'] = tgrid.yt_ocean.values\n",
    "    ice.coords['ni'] = tgrid.xt_ocean.values\n",
    "    ice = ice.rename(({'nj':'yt_ocean', 'ni':'xt_ocean'}))\n",
    "    return ice"
   ]
  },
  {
   "cell_type": "code",
   "execution_count": 25,
   "metadata": {},
   "outputs": [],
   "source": [
    "dyt = cc.querying.getvar(control, 'dyt', session, ncfile='ocean_grid.nc', n=1)\n",
    "dxt = cc.querying.getvar(control, 'dxt', session, ncfile='ocean_grid.nc', n=1)"
   ]
  },
  {
   "cell_type": "code",
   "execution_count": 6,
   "metadata": {},
   "outputs": [],
   "source": [
    "control_ice_thickness = replace_ice_coords(control_ice_thickness, dyt)\n",
    "rcp45_ice_thickness = replace_ice_coords(rcp45_ice_thickness, dyt)\n",
    "rcp85_ice_thickness = replace_ice_coords(rcp85_ice_thickness, dyt)"
   ]
  },
  {
   "cell_type": "code",
   "execution_count": 9,
   "metadata": {},
   "outputs": [],
   "source": [
    "timeslice = slice('1937-06','1947-05')\n",
    "latslice = slice(-90,-59)\n",
    "control_ice_thickness = control_ice_thickness.sel(time = timeslice, yt_ocean = latslice)\n",
    "rcp45_ice_thickness = rcp45_ice_thickness.sel(time = timeslice, yt_ocean = latslice)\n",
    "rcp85_ice_thickness = rcp85_ice_thickness.sel(time = timeslice, yt_ocean = latslice)"
   ]
  },
  {
   "cell_type": "code",
   "execution_count": 11,
   "metadata": {},
   "outputs": [],
   "source": [
    "def shelf_mask_isobath(var):\n",
    "    contour_file = np.load('/home/156/rm2389/Antarctic_slope_contour_1000m.npz')\n",
    "    shelf_mask = contour_file['contour_masked_above']\n",
    "    yt_ocean = contour_file['yt_ocean']\n",
    "    xt_ocean = contour_file['xt_ocean']\n",
    "    # in this file the points along the isobath are given a positive value, the points outside (northwards) of the isobatj\n",
    "    # are given a value of -100 and all the points on the continental shelf have a value of 0 so we mask for the 0 values \n",
    "    shelf_mask[np.where(shelf_mask!=0)] = np.nan\n",
    "    shelf_mask = shelf_mask+1\n",
    "    shelf_map = np.nan_to_num(shelf_mask)\n",
    "    shelf_mask  = xr.DataArray(shelf_mask,coords = [('yt_ocean', yt_ocean), ('xt_ocean', xt_ocean)] )\n",
    "    shelf_map  = xr.DataArray(shelf_map,coords = [('yt_ocean', yt_ocean), ('xt_ocean', xt_ocean)] )\n",
    "    # then we want to multiply the variable with the mask so we need to account for the shape of the mask. The mask \n",
    "    # uses a northern cutoff of 59S.\n",
    "    masked_var = var.sel(yt_ocean = slice(-90,-59.03)) * shelf_mask\n",
    "    return masked_var, shelf_map"
   ]
  },
  {
   "cell_type": "code",
   "execution_count": 12,
   "metadata": {},
   "outputs": [],
   "source": [
    "control_ice_thickness, shelf_mask = shelf_mask_isobath(control_ice_thickness)\n",
    "rcp45_ice_thickness, shelf_mask = shelf_mask_isobath(rcp45_ice_thickness)\n",
    "rcp85_ice_thickness, shelf_mask = shelf_mask_isobath(rcp85_ice_thickness)\n",
    "dyt, shelf_mask = shelf_mask_isobath(dyt)\n",
    "dxt, shelf_mask = shelf_mask_isobath(dxt)"
   ]
  },
  {
   "cell_type": "code",
   "execution_count": 14,
   "metadata": {},
   "outputs": [],
   "source": [
    "##time mean\n",
    "time = control_ice_thickness.time.values\n",
    "weights = xr.DataArray(month_weights(start_month=6, end_month=5, n_years=10), coords = [time], dims = 'time')\n",
    "control_hi_time_mean = (control_ice_thickness*weights).mean(dim = 'time')\n",
    "rcp45_hi_time_mean = (rcp45_ice_thickness*weights).mean(dim = 'time')\n",
    "rcp85_hi_time_mean = (rcp85_ice_thickness*weights).mean(dim = 'time')"
   ]
  },
  {
   "cell_type": "code",
   "execution_count": 15,
   "metadata": {},
   "outputs": [],
   "source": [
    "def surface_averaged(var, dxt, dyt):\n",
    "    var_scaled = var  * dxt * dyt\n",
    "    var_scaled_sum = var_scaled.sum(dim = 'xt_ocean').sum(dim = 'yt_ocean')\n",
    "    area = dxt * dyt \n",
    "    area_sum = area.sum(dim = 'xt_ocean').sum(dim = 'yt_ocean')\n",
    "    var_area_mean = var_scaled_sum /area_sum;\n",
    "    return var_area_mean"
   ]
  },
  {
   "cell_type": "code",
   "execution_count": 16,
   "metadata": {},
   "outputs": [
    {
     "name": "stdout",
     "output_type": "stream",
     "text": [
      "Values in m, averaged over 10 year experimental period\n",
      "Full shelf ice thickness, control: 0.8994173184954433\n",
      "Full shelf ice thickness, rcp45: 0.9053248232099077\n",
      "Full shelf ice thickness, rcp85: 0.9170622627058942\n"
     ]
    }
   ],
   "source": [
    "##full shelf\n",
    "print('Values in m, averaged over 10 year experimental period')\n",
    "shelf_control_hi_time_mean = surface_averaged(control_hi_time_mean, dxt, dyt).load()\n",
    "print('Full shelf ice thickness, control:',shelf_control_hi_time_mean.values)\n",
    "shelf_rcp45_hi_time_mean = surface_averaged(rcp45_hi_time_mean, dxt, dyt).load()\n",
    "print('Full shelf ice thickness, rcp45:',shelf_rcp45_hi_time_mean.values)\n",
    "shelf_rcp85_hi_time_mean = surface_averaged(rcp85_hi_time_mean, dxt, dyt).load()\n",
    "print('Full shelf ice thickness, rcp85:',shelf_rcp85_hi_time_mean.values)"
   ]
  },
  {
   "cell_type": "code",
   "execution_count": 17,
   "metadata": {},
   "outputs": [
    {
     "name": "stdout",
     "output_type": "stream",
     "text": [
      "Values in % increase, relative to the control, averaged over 10 year experimental period\n",
      "Full shelf ice thickness, rcp45: 0.6568146502167191\n",
      "Full shelf ice thickness, rcp45: 1.9618194855273208\n"
     ]
    }
   ],
   "source": [
    "print('Values in % increase, relative to the control, averaged over 10 year experimental period')\n",
    "shelf_rcp45_hi_pi = (shelf_rcp45_hi_time_mean-shelf_control_hi_time_mean)/shelf_control_hi_time_mean *100\n",
    "print('Full shelf ice thickness, rcp45:',shelf_rcp45_hi_pi.values)\n",
    "shelf_rcp85_hi_pi = (shelf_rcp85_hi_time_mean-shelf_control_hi_time_mean)/shelf_control_hi_time_mean *100\n",
    "print('Full shelf ice thickness, rcp45:',shelf_rcp85_hi_pi.values)"
   ]
  },
  {
   "cell_type": "code",
   "execution_count": 18,
   "metadata": {},
   "outputs": [
    {
     "name": "stdout",
     "output_type": "stream",
     "text": [
      "Values in m, averaged over 10 year experimental period\n",
      "ross shelf ice thickness, control: 0.7477423743593532\n",
      "ross shelf ice thickness, rcp45: 0.8120933580874587\n",
      "ross shelf ice thickness, rcp85: 0.9444720039035095\n"
     ]
    }
   ],
   "source": [
    "##ross sea\n",
    "## lon bounds are -198 -157\n",
    "lonslice = slice(-198,-157)\n",
    "print('Values in m, averaged over 10 year experimental period')\n",
    "ross_control_hi_time_mean = surface_averaged(control_hi_time_mean.sel(xt_ocean = lonslice), dxt.sel(xt_ocean = lonslice), dyt.sel(xt_ocean = lonslice)).load()\n",
    "print('ross shelf ice thickness, control:',ross_control_hi_time_mean.values)\n",
    "ross_rcp45_hi_time_mean = surface_averaged(rcp45_hi_time_mean.sel(xt_ocean = lonslice), dxt.sel(xt_ocean = lonslice), dyt.sel(xt_ocean = lonslice)).load()\n",
    "print('ross shelf ice thickness, rcp45:',ross_rcp45_hi_time_mean.values)\n",
    "ross_rcp85_hi_time_mean = surface_averaged(rcp85_hi_time_mean.sel(xt_ocean = lonslice), dxt.sel(xt_ocean = lonslice), dyt.sel(xt_ocean = lonslice)).load()\n",
    "print('ross shelf ice thickness, rcp85:',ross_rcp85_hi_time_mean.values)"
   ]
  },
  {
   "cell_type": "code",
   "execution_count": 21,
   "metadata": {},
   "outputs": [
    {
     "name": "stdout",
     "output_type": "stream",
     "text": [
      "Values in % increase, relative to the control, averaged over 10 year experimental period\n",
      "ross shelf ice thickness, rcp45: 8.606036776134275\n",
      "ross shelf ice thickness, rcp45: 26.309814220801552\n"
     ]
    }
   ],
   "source": [
    "print('Values in % increase, relative to the control, averaged over 10 year experimental period')\n",
    "ross_rcp45_hi_pi = (ross_rcp45_hi_time_mean-ross_control_hi_time_mean)/ross_control_hi_time_mean *100\n",
    "print('ross shelf ice thickness, rcp45:',ross_rcp45_hi_pi.values)\n",
    "ross_rcp85_hi_pi = (ross_rcp85_hi_time_mean-ross_control_hi_time_mean)/ross_control_hi_time_mean *100\n",
    "print('ross shelf ice thickness, rcp45:',ross_rcp85_hi_pi.values)"
   ]
  },
  {
   "cell_type": "code",
   "execution_count": 19,
   "metadata": {},
   "outputs": [
    {
     "name": "stdout",
     "output_type": "stream",
     "text": [
      "Values in m, averaged over 10 year experimental period\n",
      "west antarctica shelf ice thickness, control: 1.3188331621622014\n",
      "west antarctica shelf ice thickness, rcp45: 1.2422222852996396\n",
      "west antarctica shelf ice thickness, rcp85: 1.0728745491243523\n"
     ]
    }
   ],
   "source": [
    "##west antarctica\n",
    "## lon bounds are -157, -63\n",
    "lonslice = slice(-157,-63)\n",
    "print('Values in m, averaged over 10 year experimental period')\n",
    "wa_control_hi_time_mean = surface_averaged(control_hi_time_mean.sel(xt_ocean = lonslice), dxt.sel(xt_ocean = lonslice), dyt.sel(xt_ocean = lonslice)).load()\n",
    "print('west antarctica shelf ice thickness, control:',wa_control_hi_time_mean.values)\n",
    "wa_rcp45_hi_time_mean = surface_averaged(rcp45_hi_time_mean.sel(xt_ocean = lonslice), dxt.sel(xt_ocean = lonslice), dyt.sel(xt_ocean = lonslice)).load()\n",
    "print('west antarctica shelf ice thickness, rcp45:',wa_rcp45_hi_time_mean.values)\n",
    "wa_rcp85_hi_time_mean = surface_averaged(rcp85_hi_time_mean.sel(xt_ocean = lonslice), dxt.sel(xt_ocean = lonslice), dyt.sel(xt_ocean = lonslice)).load()\n",
    "print('west antarctica shelf ice thickness, rcp85:',wa_rcp85_hi_time_mean.values)"
   ]
  },
  {
   "cell_type": "code",
   "execution_count": 22,
   "metadata": {},
   "outputs": [
    {
     "name": "stdout",
     "output_type": "stream",
     "text": [
      "Values in % increase, relative to the control, averaged over 10 year experimental period\n",
      "wa shelf ice thickness, rcp45: -5.808989268738109\n",
      "wa shelf ice thickness, rcp45: -18.649714011938\n"
     ]
    }
   ],
   "source": [
    "print('Values in % increase, relative to the control, averaged over 10 year experimental period')\n",
    "wa_rcp45_hi_pi = (wa_rcp45_hi_time_mean-wa_control_hi_time_mean)/wa_control_hi_time_mean *100\n",
    "print('wa shelf ice thickness, rcp45:',wa_rcp45_hi_pi.values)\n",
    "wa_rcp85_hi_pi = (wa_rcp85_hi_time_mean-wa_control_hi_time_mean)/wa_control_hi_time_mean *100\n",
    "print('wa shelf ice thickness, rcp45:',wa_rcp85_hi_pi.values)"
   ]
  },
  {
   "cell_type": "markdown",
   "metadata": {},
   "source": [
    "### Congelation + Frazil (formation)"
   ]
  },
  {
   "cell_type": "code",
   "execution_count": 23,
   "metadata": {},
   "outputs": [],
   "source": [
    "control_ice_cong = cc.querying.getvar(control, 'congel_m', session)\n",
    "rcp45_ice_cong = cc.querying.getvar(rcp45, 'congel_m', session)\n",
    "rcp85_ice_cong = cc.querying.getvar(rcp85, 'congel_m', session)\n",
    "control_ice_frazil = cc.querying.getvar(control, 'frazil_m', session)\n",
    "rcp45_ice_frazil = cc.querying.getvar(rcp45, 'frazil_m', session)\n",
    "rcp85_ice_frazil = cc.querying.getvar(rcp85, 'frazil_m', session)"
   ]
  },
  {
   "cell_type": "code",
   "execution_count": 26,
   "metadata": {},
   "outputs": [],
   "source": [
    "control_ice_cong = replace_ice_coords(control_ice_cong, dyt)\n",
    "rcp45_ice_cong = replace_ice_coords(rcp45_ice_cong, dyt)\n",
    "rcp85_ice_cong = replace_ice_coords(rcp85_ice_cong, dyt)\n",
    "control_ice_frazil = replace_ice_coords(control_ice_frazil, dyt)\n",
    "rcp45_ice_frazil = replace_ice_coords(rcp45_ice_frazil, dyt)\n",
    "rcp85_ice_frazil = replace_ice_coords(rcp85_ice_frazil, dyt)"
   ]
  },
  {
   "cell_type": "code",
   "execution_count": 28,
   "metadata": {},
   "outputs": [],
   "source": [
    "timeslice = slice('1937-06','1947-05')\n",
    "latslice = slice(-90,-59)\n",
    "control_ice_cong = control_ice_cong.sel(time = timeslice, yt_ocean = latslice)\n",
    "rcp45_ice_cong = rcp45_ice_cong.sel(time = timeslice, yt_ocean = latslice)\n",
    "rcp85_ice_cong = rcp85_ice_cong.sel(time = timeslice, yt_ocean = latslice)\n",
    "control_ice_frazil = control_ice_frazil.sel(time = timeslice, yt_ocean = latslice)\n",
    "rcp45_ice_frazil = rcp45_ice_frazil.sel(time = timeslice, yt_ocean = latslice)\n",
    "rcp85_ice_frazil = rcp85_ice_frazil.sel(time = timeslice, yt_ocean = latslice)"
   ]
  },
  {
   "cell_type": "code",
   "execution_count": 30,
   "metadata": {},
   "outputs": [],
   "source": [
    "control_ice_cong, shelf_mask = shelf_mask_isobath(control_ice_cong)\n",
    "rcp45_ice_cong, shelf_mask = shelf_mask_isobath(rcp45_ice_cong)\n",
    "rcp85_ice_cong, shelf_mask = shelf_mask_isobath(rcp85_ice_cong)\n",
    "control_ice_frazil, shelf_mask = shelf_mask_isobath(control_ice_frazil)\n",
    "rcp45_ice_frazil, shelf_mask = shelf_mask_isobath(rcp45_ice_frazil)\n",
    "rcp85_ice_frazil, shelf_mask = shelf_mask_isobath(rcp85_ice_frazil)\n",
    "dyt, shelf_mask = shelf_mask_isobath(dyt)\n",
    "dxt, shelf_mask = shelf_mask_isobath(dxt)"
   ]
  },
  {
   "cell_type": "code",
   "execution_count": 31,
   "metadata": {},
   "outputs": [],
   "source": [
    "##time mean\n",
    "time = control_ice_cong.time.values\n",
    "weights = xr.DataArray(month_weights(start_month=6, end_month=5, n_years=10), coords = [time], dims = 'time')\n",
    "control_cong_time_mean = (control_ice_cong*weights).mean(dim = 'time')\n",
    "rcp45_cong_time_mean = (rcp45_ice_cong*weights).mean(dim = 'time')\n",
    "rcp85_cong_time_mean = (rcp85_ice_cong*weights).mean(dim = 'time')\n",
    "control_frazil_time_mean = (control_ice_frazil*weights).mean(dim = 'time')\n",
    "rcp45_frazil_time_mean = (rcp45_ice_frazil*weights).mean(dim = 'time')\n",
    "rcp85_frazil_time_mean = (rcp85_ice_frazil*weights).mean(dim = 'time')"
   ]
  },
  {
   "cell_type": "code",
   "execution_count": 42,
   "metadata": {},
   "outputs": [],
   "source": [
    "control_cong_time_mean = control_cong_time_mean.reset_coords(drop=True)\n",
    "rcp45_cong_time_mean = rcp45_cong_time_mean.reset_coords(drop=True)\n",
    "rcp85_cong_time_mean = rcp85_cong_time_mean.reset_coords(drop=True)\n",
    "control_frazil_time_mean = control_frazil_time_mean.reset_coords(drop=True)\n",
    "rcp45_frazil_time_mean = rcp45_frazil_time_mean.reset_coords(drop=True)\n",
    "rcp85_frazil_time_mean = rcp85_frazil_time_mean.reset_coords(drop=True)"
   ]
  },
  {
   "cell_type": "code",
   "execution_count": 44,
   "metadata": {},
   "outputs": [],
   "source": [
    "control_prod_time_mean = control_cong_time_mean + control_frazil_time_mean\n",
    "rcp45_prod_time_mean = rcp45_cong_time_mean + rcp45_frazil_time_mean\n",
    "rcp85_prod_time_mean = rcp85_cong_time_mean + rcp85_frazil_time_mean"
   ]
  },
  {
   "cell_type": "code",
   "execution_count": 46,
   "metadata": {},
   "outputs": [
    {
     "name": "stdout",
     "output_type": "stream",
     "text": [
      "Values in cm/day, averaged over 10 year experimental period\n",
      "Full shelf ice thickness, control: 0.9988576759633597\n",
      "Full shelf ice thickness, rcp45: 1.0658756283796853\n",
      "Full shelf ice thickness, rcp85: 1.1775715594495861\n"
     ]
    }
   ],
   "source": [
    "##full shelf\n",
    "print('Values in cm/day, averaged over 10 year experimental period')\n",
    "shelf_control_prod_time_mean = surface_averaged(control_prod_time_mean, dxt, dyt).load()\n",
    "print('Full shelf ice production, control:',shelf_control_prod_time_mean.values)\n",
    "shelf_rcp45_prod_time_mean = surface_averaged(rcp45_prod_time_mean, dxt, dyt).load()\n",
    "print('Full shelf ice production, rcp45:',shelf_rcp45_prod_time_mean.values)\n",
    "shelf_rcp85_prod_time_mean = surface_averaged(rcp85_prod_time_mean, dxt, dyt).load()\n",
    "print('Full shelf ice production, rcp85:',shelf_rcp85_prod_time_mean.values)"
   ]
  },
  {
   "cell_type": "code",
   "execution_count": 47,
   "metadata": {},
   "outputs": [
    {
     "name": "stdout",
     "output_type": "stream",
     "text": [
      "Values in % increase, relative to the control, averaged over 10 year experimental period\n",
      "Full shelf ice production, rcp45: 0.6568146502167191\n",
      "Full shelf ice production, rcp45: 17.89182661222118\n"
     ]
    }
   ],
   "source": [
    "print('Values in % increase, relative to the control, averaged over 10 year experimental period')\n",
    "shelf_rcp45_prod_pi = (shelf_rcp45_prod_time_mean-shelf_control_prod_time_mean)/shelf_control_prod_time_mean *100\n",
    "print('Full shelf ice production, rcp45:',shelf_rcp45_hi_pi.values)\n",
    "shelf_rcp85_prod_pi = (shelf_rcp85_prod_time_mean-shelf_control_prod_time_mean)/shelf_control_prod_time_mean *100\n",
    "print('Full shelf ice production, rcp45:',shelf_rcp85_prod_pi.values)"
   ]
  },
  {
   "cell_type": "code",
   "execution_count": null,
   "metadata": {},
   "outputs": [],
   "source": []
  }
 ],
 "metadata": {
  "kernelspec": {
   "display_name": "Python [conda env:analysis3-19.07] *",
   "language": "python",
   "name": "conda-env-analysis3-19.07-py"
  },
  "language_info": {
   "codemirror_mode": {
    "name": "ipython",
    "version": 3
   },
   "file_extension": ".py",
   "mimetype": "text/x-python",
   "name": "python",
   "nbconvert_exporter": "python",
   "pygments_lexer": "ipython3",
   "version": "3.6.7"
  }
 },
 "nbformat": 4,
 "nbformat_minor": 2
}
